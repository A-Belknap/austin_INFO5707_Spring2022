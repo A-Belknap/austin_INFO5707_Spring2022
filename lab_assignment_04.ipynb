{
  "cells": [
    {
      "cell_type": "markdown",
      "metadata": {
        "id": "view-in-github",
        "colab_type": "text"
      },
      "source": [
        "<a href=\"https://colab.research.google.com/github/A-Belknap/austin_INFO5707_Spring2022/blob/main/lab_assignment_04.ipynb\" target=\"_parent\"><img src=\"https://colab.research.google.com/assets/colab-badge.svg\" alt=\"Open In Colab\"/></a>"
      ]
    },
    {
      "cell_type": "markdown",
      "metadata": {
        "id": "Iv2SMhO8ofqf"
      },
      "source": [
        "## The fourth Lab-assignment (02/17/2022, 50 points in total)"
      ]
    },
    {
      "cell_type": "markdown",
      "metadata": {
        "id": "58oiSpHzofqg"
      },
      "source": [
        "The purpose of this exercise is to understand Exploratory Data Analysis, we will practice the EDA by working on multiple datasets which have different characteristics."
      ]
    },
    {
      "cell_type": "markdown",
      "metadata": {
        "id": "0HLLNWQ0ofqg"
      },
      "source": [
        "Question 1 (15 points). Understand a text corpus for domain-specific text classification. Download the dataset from the following link: https://osf.io/8mjcy/ . Conduct EDA of the dataset from the following aspects:\n",
        "\n",
        "(1) How many categories in total?\n",
        "\n",
        "(2) How many documents under each category?\n",
        "\n",
        "(3) What is the avergae number of sentence (on average)?\n",
        "\n",
        "(4) What is the average number of words (on average)?\n",
        "\n",
        "(5) Visualize the top 50 terms and rank the terms by frquency (remove stop words first: https://gist.github.com/sebleier/554280)."
      ]
    },
    {
      "cell_type": "code",
      "execution_count": 18,
      "metadata": {
        "colab": {
          "base_uri": "https://localhost:8080/",
          "height": 1000
        },
        "id": "AgV5rt8gofqh",
        "outputId": "682ef8fb-328c-4206-81ad-6fc8bc90edae"
      },
      "outputs": [
        {
          "output_type": "stream",
          "name": "stdout",
          "text": [
            "[nltk_data] Downloading collection 'popular'\n",
            "[nltk_data]    | \n",
            "[nltk_data]    | Downloading package cmudict to /root/nltk_data...\n",
            "[nltk_data]    |   Package cmudict is already up-to-date!\n",
            "[nltk_data]    | Downloading package gazetteers to /root/nltk_data...\n",
            "[nltk_data]    |   Package gazetteers is already up-to-date!\n",
            "[nltk_data]    | Downloading package genesis to /root/nltk_data...\n",
            "[nltk_data]    |   Package genesis is already up-to-date!\n",
            "[nltk_data]    | Downloading package gutenberg to /root/nltk_data...\n",
            "[nltk_data]    |   Package gutenberg is already up-to-date!\n",
            "[nltk_data]    | Downloading package inaugural to /root/nltk_data...\n",
            "[nltk_data]    |   Package inaugural is already up-to-date!\n",
            "[nltk_data]    | Downloading package movie_reviews to\n",
            "[nltk_data]    |     /root/nltk_data...\n",
            "[nltk_data]    |   Package movie_reviews is already up-to-date!\n",
            "[nltk_data]    | Downloading package names to /root/nltk_data...\n",
            "[nltk_data]    |   Package names is already up-to-date!\n",
            "[nltk_data]    | Downloading package shakespeare to /root/nltk_data...\n",
            "[nltk_data]    |   Package shakespeare is already up-to-date!\n",
            "[nltk_data]    | Downloading package stopwords to /root/nltk_data...\n",
            "[nltk_data]    |   Package stopwords is already up-to-date!\n",
            "[nltk_data]    | Downloading package treebank to /root/nltk_data...\n",
            "[nltk_data]    |   Package treebank is already up-to-date!\n",
            "[nltk_data]    | Downloading package twitter_samples to\n",
            "[nltk_data]    |     /root/nltk_data...\n",
            "[nltk_data]    |   Package twitter_samples is already up-to-date!\n",
            "[nltk_data]    | Downloading package omw to /root/nltk_data...\n",
            "[nltk_data]    |   Package omw is already up-to-date!\n",
            "[nltk_data]    | Downloading package omw-1.4 to /root/nltk_data...\n",
            "[nltk_data]    |   Package omw-1.4 is already up-to-date!\n",
            "[nltk_data]    | Downloading package wordnet to /root/nltk_data...\n",
            "[nltk_data]    |   Package wordnet is already up-to-date!\n",
            "[nltk_data]    | Downloading package wordnet2021 to /root/nltk_data...\n",
            "[nltk_data]    |   Package wordnet2021 is already up-to-date!\n",
            "[nltk_data]    | Downloading package wordnet31 to /root/nltk_data...\n",
            "[nltk_data]    |   Package wordnet31 is already up-to-date!\n",
            "[nltk_data]    | Downloading package wordnet_ic to /root/nltk_data...\n",
            "[nltk_data]    |   Package wordnet_ic is already up-to-date!\n",
            "[nltk_data]    | Downloading package words to /root/nltk_data...\n",
            "[nltk_data]    |   Package words is already up-to-date!\n",
            "[nltk_data]    | Downloading package maxent_ne_chunker to\n",
            "[nltk_data]    |     /root/nltk_data...\n",
            "[nltk_data]    |   Package maxent_ne_chunker is already up-to-date!\n",
            "[nltk_data]    | Downloading package punkt to /root/nltk_data...\n",
            "[nltk_data]    |   Package punkt is already up-to-date!\n",
            "[nltk_data]    | Downloading package snowball_data to\n",
            "[nltk_data]    |     /root/nltk_data...\n",
            "[nltk_data]    |   Package snowball_data is already up-to-date!\n",
            "[nltk_data]    | Downloading package averaged_perceptron_tagger to\n",
            "[nltk_data]    |     /root/nltk_data...\n",
            "[nltk_data]    |   Package averaged_perceptron_tagger is already up-\n",
            "[nltk_data]    |       to-date!\n",
            "[nltk_data]    | \n",
            "[nltk_data]  Done downloading collection popular\n",
            "[nltk_data] Downloading package punkt to /root/nltk_data...\n",
            "[nltk_data]   Package punkt is already up-to-date!\n",
            "Requirement already satisfied: ftfy in /usr/local/lib/python3.7/dist-packages (6.1.1)\n",
            "Requirement already satisfied: wcwidth>=0.2.5 in /usr/local/lib/python3.7/dist-packages (from ftfy) (0.2.5)\n",
            "['\\x00\\x00\\x00\\x01', 'Bud1', ...]\n",
            "{'/content/drive/MyDrive/Lab4/preprocessed_cases[cases_29404]/59': 51, '/content/drive/MyDrive/Lab4/preprocessed_cases[cases_29404]/66': 207, '/content/drive/MyDrive/Lab4/preprocessed_cases[cases_29404]/50': 68, '/content/drive/MyDrive/Lab4/preprocessed_cases[cases_29404]/57': 108, '/content/drive/MyDrive/Lab4/preprocessed_cases[cases_29404]/61': 181, '/content/drive/MyDrive/Lab4/preprocessed_cases[cases_29404]/68': 263, '/content/drive/MyDrive/Lab4/preprocessed_cases[cases_29404]/35': 68, '/content/drive/MyDrive/Lab4/preprocessed_cases[cases_29404]/56': 395, '/content/drive/MyDrive/Lab4/preprocessed_cases[cases_29404]/51': 225, '/content/drive/MyDrive/Lab4/preprocessed_cases[cases_29404]/60': 42, '/content/drive/MyDrive/Lab4/preprocessed_cases[cases_29404]/32': 118, '/content/drive/MyDrive/Lab4/preprocessed_cases[cases_29404]/58': 150, '/content/drive/MyDrive/Lab4/preprocessed_cases[cases_29404]/69': 700, '/content/drive/MyDrive/Lab4/preprocessed_cases[cases_29404]/67': 356, '/content/drive/MyDrive/Lab4/preprocessed_cases[cases_29404]/33': 272, '/content/drive/MyDrive/Lab4/preprocessed_cases[cases_29404]/34': 786, '/content/drive/MyDrive/Lab4/preprocessed_cases[cases_29404]/45': 1085, '/content/drive/MyDrive/Lab4/preprocessed_cases[cases_29404]/42': 1292, '/content/drive/MyDrive/Lab4/preprocessed_cases[cases_29404]/20': 1129, '/content/drive/MyDrive/Lab4/preprocessed_cases[cases_29404]/29': 213, '/content/drive/MyDrive/Lab4/preprocessed_cases[cases_29404]/18': 509, '/content/drive/MyDrive/Lab4/preprocessed_cases[cases_29404]/11': 605, '/content/drive/MyDrive/Lab4/preprocessed_cases[cases_29404]/27': 77, '/content/drive/MyDrive/Lab4/preprocessed_cases[cases_29404]/9': 744, '/content/drive/MyDrive/Lab4/preprocessed_cases[cases_29404]/7': 621, '/content/drive/MyDrive/Lab4/preprocessed_cases[cases_29404]/16': 826, '/content/drive/MyDrive/Lab4/preprocessed_cases[cases_29404]/73': 705, '/content/drive/MyDrive/Lab4/preprocessed_cases[cases_29404]/74': 60, '/content/drive/MyDrive/Lab4/preprocessed_cases[cases_29404]/28': 373, '/content/drive/MyDrive/Lab4/preprocessed_cases[cases_29404]/6': 440, '/content/drive/MyDrive/Lab4/preprocessed_cases[cases_29404]/8': 521, '/content/drive/MyDrive/Lab4/preprocessed_cases[cases_29404]/17': 141, '/content/drive/MyDrive/Lab4/preprocessed_cases[cases_29404]/26': 754, '/content/drive/MyDrive/Lab4/preprocessed_cases[cases_29404]/10': 584, '/content/drive/MyDrive/Lab4/preprocessed_cases[cases_29404]/75': 473, '/content/drive/MyDrive/Lab4/preprocessed_cases[cases_29404]/19': 349, '/content/drive/MyDrive/Lab4/preprocessed_cases[cases_29404]/1': 819, '/content/drive/MyDrive/Lab4/preprocessed_cases[cases_29404]/21': 735, '/content/drive/MyDrive/Lab4/preprocessed_cases[cases_29404]/44': 825, '/content/drive/MyDrive/Lab4/preprocessed_cases[cases_29404]/72': 74, '/content/drive/MyDrive/Lab4/preprocessed_cases[cases_29404]/54': 95, '/content/drive/MyDrive/Lab4/preprocessed_cases[cases_29404]/43': 234, '/content/drive/MyDrive/Lab4/preprocessed_cases[cases_29404]/65': 276, '/content/drive/MyDrive/Lab4/preprocessed_cases[cases_29404]/53': 142, '/content/drive/MyDrive/Lab4/preprocessed_cases[cases_29404]/36': 889, '/content/drive/MyDrive/Lab4/preprocessed_cases[cases_29404]/31': 516, '/content/drive/MyDrive/Lab4/preprocessed_cases[cases_29404]/38': 503, '/content/drive/MyDrive/Lab4/preprocessed_cases[cases_29404]/62': 218, '/content/drive/MyDrive/Lab4/preprocessed_cases[cases_29404]/37': 74, '/content/drive/MyDrive/Lab4/preprocessed_cases[cases_29404]/30': 881, '/content/drive/MyDrive/Lab4/preprocessed_cases[cases_29404]/41': 1020, '/content/drive/MyDrive/Lab4/preprocessed_cases[cases_29404]/64': 130, '/content/drive/MyDrive/Lab4/preprocessed_cases[cases_29404]/77': 146, '/content/drive/MyDrive/Lab4/preprocessed_cases[cases_29404]/52': 318, '/content/drive/MyDrive/Lab4/preprocessed_cases[cases_29404]/70': 192, '/content/drive/MyDrive/Lab4/preprocessed_cases[cases_29404]/63': 194, '/content/drive/MyDrive/Lab4/preprocessed_cases[cases_29404]/39': 261, '/content/drive/MyDrive/Lab4/preprocessed_cases[cases_29404]/55': 48, '/content/drive/MyDrive/Lab4/preprocessed_cases[cases_29404]/23': 179, '/content/drive/MyDrive/Lab4/preprocessed_cases[cases_29404]/24': 628, '/content/drive/MyDrive/Lab4/preprocessed_cases[cases_29404]/4': 231, '/content/drive/MyDrive/Lab4/preprocessed_cases[cases_29404]/15': 257, '/content/drive/MyDrive/Lab4/preprocessed_cases[cases_29404]/12': 275, '/content/drive/MyDrive/Lab4/preprocessed_cases[cases_29404]/3': 184, '/content/drive/MyDrive/Lab4/preprocessed_cases[cases_29404]/71': 457, '/content/drive/MyDrive/Lab4/preprocessed_cases[cases_29404]/76': 177, '/content/drive/MyDrive/Lab4/preprocessed_cases[cases_29404]/40': 510, '/content/drive/MyDrive/Lab4/preprocessed_cases[cases_29404]/49': 17, '/content/drive/MyDrive/Lab4/preprocessed_cases[cases_29404]/78': 242, '/content/drive/MyDrive/Lab4/preprocessed_cases[cases_29404]/47': 151, '/content/drive/MyDrive/Lab4/preprocessed_cases[cases_29404]/13': 458, '/content/drive/MyDrive/Lab4/preprocessed_cases[cases_29404]/2': 179, '/content/drive/MyDrive/Lab4/preprocessed_cases[cases_29404]/5': 751, '/content/drive/MyDrive/Lab4/preprocessed_cases[cases_29404]/14': 277, '/content/drive/MyDrive/Lab4/preprocessed_cases[cases_29404]/22': 284, '/content/drive/MyDrive/Lab4/preprocessed_cases[cases_29404]/25': 244, '/content/drive/MyDrive/Lab4/preprocessed_cases[cases_29404]': 29583}\n",
            "128.6207228538442\n",
            "4.730608832186341\n"
          ]
        },
        {
          "output_type": "error",
          "ename": "TypeError",
          "evalue": "ignored",
          "traceback": [
            "\u001b[0;31m---------------------------------------------------------------------------\u001b[0m",
            "\u001b[0;31mTypeError\u001b[0m                                 Traceback (most recent call last)",
            "\u001b[0;32m<ipython-input-18-e22ba0d4b21a>\u001b[0m in \u001b[0;36m<module>\u001b[0;34m()\u001b[0m\n\u001b[1;32m     59\u001b[0m \u001b[0;34m\u001b[0m\u001b[0m\n\u001b[1;32m     60\u001b[0m \u001b[0;31m#4\u001b[0m\u001b[0;34m\u001b[0m\u001b[0;34m\u001b[0m\u001b[0;34m\u001b[0m\u001b[0m\n\u001b[0;32m---> 61\u001b[0;31m \u001b[0mfiltered_corpus\u001b[0m \u001b[0;34m=\u001b[0m \u001b[0;34m[\u001b[0m\u001b[0mword\u001b[0m \u001b[0;32mfor\u001b[0m \u001b[0mword\u001b[0m \u001b[0;32min\u001b[0m \u001b[0mcorpus\u001b[0m \u001b[0;32mif\u001b[0m \u001b[0mword\u001b[0m \u001b[0;32mnot\u001b[0m \u001b[0;32min\u001b[0m \u001b[0mstopwords\u001b[0m\u001b[0;34m.\u001b[0m\u001b[0mwords\u001b[0m\u001b[0;34m(\u001b[0m\u001b[0;34m'english'\u001b[0m\u001b[0;34m)\u001b[0m\u001b[0;34m]\u001b[0m\u001b[0;34m\u001b[0m\u001b[0;34m\u001b[0m\u001b[0m\n\u001b[0m\u001b[1;32m     62\u001b[0m \u001b[0;34m\u001b[0m\u001b[0m\n\u001b[1;32m     63\u001b[0m \u001b[0;34m\u001b[0m\u001b[0m\n",
            "\u001b[0;31mTypeError\u001b[0m: 'PlaintextCorpusReader' object is not iterable"
          ]
        }
      ],
      "source": [
        "# Your answer here (code + explanation):\n",
        "\n",
        "import nltk\n",
        "import   nltk.data\n",
        "nltk.download('popular')\n",
        "nltk.download('punkt')\n",
        "from nltk.tokenize import sent_tokenize\n",
        "from nltk.corpus import *\n",
        "!pip install ftfy\n",
        "import ftfy\n",
        "import os\n",
        "\n",
        "corpus_root = \"/content/drive/MyDrive/Lab4/preprocessed_cases[cases_29404]\"\n",
        "\n",
        "corpus = nltk.corpus.reader.plaintext.PlaintextCorpusReader(corpus_root, '.*', encoding='latin-1')\n",
        "\n",
        "\n",
        "print(corpus.words())\n",
        "#1\n",
        "#There are 78 categories because there are 78 folders within the corpus\n",
        "\n",
        "#2\n",
        "#counts of documents under each category\n",
        "counts = {}\n",
        "for dirpath, dirnames, fnames in os.walk(corpus_root, topdown=False):\n",
        "    counts[dirpath] = len(fnames)\n",
        "    for d in dirnames:\n",
        "        key = os.path.join(dirpath, d)\n",
        "        counts[dirpath] += counts[key]\n",
        "print(counts)\n",
        "\n",
        "#3, find the average number of sentences\n",
        "\n",
        "from __future__ import division\n",
        "total_lens = 0\n",
        "for i, sent in enumerate(corpus.sents()):\n",
        "  total_lens += len(sent)\n",
        "\n",
        "total_lens \n",
        "i\n",
        "avg_sent_len = total_lens / i\n",
        "avg_sent_len\n",
        "avg_sent_len = total_lens / (i+1)\n",
        "print(avg_sent_len)\n",
        "\n",
        "#4\n",
        "#find average number of words\n",
        "from __future__ import division\n",
        "total_lens2 = 0\n",
        "for i, word in enumerate(corpus.words()):\n",
        "  total_lens2 += len(word)\n",
        "\n",
        "total_lens2\n",
        "i\n",
        "avg_word_len = total_lens2 / i\n",
        "avg_word_len\n",
        "avg_word_len = total_lens2 / (i+1)\n",
        "print(avg_word_len)\n",
        "\n",
        "#4\n",
        "filtered_corpus = [word for word in corpus if word not in stopwords.words('english')]\n",
        "\n",
        "\n",
        "\n",
        "\n",
        "\n"
      ]
    },
    {
      "cell_type": "code",
      "execution_count": null,
      "metadata": {
        "colab": {
          "base_uri": "https://localhost:8080/"
        },
        "id": "sStTGb2RosHW",
        "outputId": "5ed58fc9-c459-4b77-c5aa-74db467d7414"
      },
      "outputs": [
        {
          "name": "stdout",
          "output_type": "stream",
          "text": [
            "Mounted at /content/drive\n"
          ]
        }
      ],
      "source": [
        "from google.colab import drive\n",
        "drive.mount('/content/drive')"
      ]
    },
    {
      "cell_type": "markdown",
      "metadata": {
        "id": "RnWxYSPNofqh"
      },
      "source": [
        "Question 2 (20 points). Continue practicing how to do simple exploratory data analysis with Python. The dataset that has been used in this question is called Student Academics Performance Data Set, which can be downloaded at: https://github.com/unt-iialab/info5502-spring2022/blob/main/datasets/lab-assignment-04-student-performance.csv . Please conduct the following analysis:\n",
        "\n",
        "(1) Description of all the columns: for each colmun, count number of rows, number of unqiue element, the frequency of each unqiue element. \n",
        "\n",
        "\n",
        "(2)  Visualize the count for each value in the 'Study Hours' column. Note: Study Hours values comes from this >= 6 hours Good >= 4 hours Average < 2 hours Poor.\n",
        "\n",
        "(3) Using factorplot to show the relationship between numerical and categorical value. Please use figure to show relation between [Study Hours] and [End Semester Percentage]. Percentage is calculated based on the following:\n",
        "\n",
        "if percentage >=80 then Best\n",
        "If percentage >= 60 but less than 80 then Very Good\n",
        "If percentage >= 45 but less than 60 then Good\n",
        "If Percentage >= 30 but less than 45 then Pass\n",
        "If Percentage < 30 then Fail\n",
        "\n",
        "(4) Get the correlation from the data, then plug it to heatmap function and show it as following:\n",
        "\n",
        "![heatmap.png](attachment:heatmap.png)"
      ]
    },
    {
      "cell_type": "code",
      "execution_count": 17,
      "metadata": {
        "colab": {
          "base_uri": "https://localhost:8080/",
          "height": 1000
        },
        "id": "LwPXT8sUofqk",
        "outputId": "cd32e811-7b3c-447f-e675-a842e8ecf38f"
      },
      "outputs": [
        {
          "output_type": "stream",
          "name": "stdout",
          "text": [
            "     Missing Values\n",
            "ge                0\n",
            "cst               0\n",
            "tnp               0\n",
            "twp               0\n",
            "iap               0\n",
            "esp               0\n",
            "arr               0\n",
            "ms                0\n",
            "ls                0\n",
            "as                0\n",
            "fmi               0\n",
            "fs                0\n",
            "fq                0\n",
            "mq                0\n",
            "fo                0\n",
            "mo                0\n",
            "nf                0\n",
            "sh                0\n",
            "ss                0\n",
            "me                0\n",
            "tt                0\n",
            "atd               0\n",
            "  ge   cst   tnp   twp iap   esp arr         ms ls    as  ...  fq  mq  \\\n",
            "0  F     G  Good  Good  Vg  Good   Y  Unmarried  V  Paid  ...  Um  10   \n",
            "1  M   OBC    Vg    Vg  Vg    Vg   N  Unmarried  V  Paid  ...  Um  Il   \n",
            "2  F   OBC  Good  Good  Vg  Good   N  Unmarried  V  Paid  ...  12  10   \n",
            "3  M  MOBC  Pass  Good  Vg  Good   N  Unmarried  V  Paid  ...  12  Um   \n",
            "4  M     G  Good  Good  Vg    Vg   N  Unmarried  V  Paid  ...  10  12   \n",
            "\n",
            "         fo         mo       nf       sh       ss   me       tt      atd  \n",
            "0    Farmer  Housewife    Large     Poor     Govt  Asm    Small     Good  \n",
            "1   Service    Service    Small     Poor     Govt  Asm  Average  Average  \n",
            "2   Service  Housewife  Average  Average     Govt  Asm    Large     Good  \n",
            "3  Business   Business    Large     Poor     Govt  Asm  Average  Average  \n",
            "4   Service  Housewife    Large     Poor  Private  Asm    Small     Good  \n",
            "\n",
            "[5 rows x 22 columns]\n",
            "         ge  cst   tnp   twp  iap   esp  arr         ms   ls    as  ...   fq  \\\n",
            "count   131  131   131   131  131   131  131        131  131   131  ...  131   \n",
            "unique    2    5     4     4    4     4    2          1    2     2  ...    6   \n",
            "top       M  OBC  Good  Good   Vg  Good    N  Unmarried    V  Paid  ...   Um   \n",
            "freq     72   57    59    65   63    54   78        131   92    76  ...   40   \n",
            "\n",
            "         mq       fo         mo     nf       sh    ss   me     tt   atd  \n",
            "count   131      131        131    131      131   131  131    131   131  \n",
            "unique    6        5          5      3        3     2    4      3     3  \n",
            "top      Um  Service  Housewife  Large  Average  Govt  Eng  Small  Good  \n",
            "freq     52       38        115     58       59    91   62     78    56  \n",
            "\n",
            "[4 rows x 22 columns]\n"
          ]
        },
        {
          "output_type": "error",
          "ename": "ValueError",
          "evalue": "ignored",
          "traceback": [
            "\u001b[0;31m---------------------------------------------------------------------------\u001b[0m",
            "\u001b[0;31mValueError\u001b[0m                                Traceback (most recent call last)",
            "\u001b[0;32m<ipython-input-17-a781ce60ef5c>\u001b[0m in \u001b[0;36m<module>\u001b[0;34m()\u001b[0m\n\u001b[1;32m     23\u001b[0m \u001b[0;31m# plot the heatmap\u001b[0m\u001b[0;34m\u001b[0m\u001b[0;34m\u001b[0m\u001b[0;34m\u001b[0m\u001b[0m\n\u001b[1;32m     24\u001b[0m \u001b[0;34m\u001b[0m\u001b[0m\n\u001b[0;32m---> 25\u001b[0;31m \u001b[0msns\u001b[0m\u001b[0;34m.\u001b[0m\u001b[0mheatmap\u001b[0m\u001b[0;34m(\u001b[0m\u001b[0mdata\u001b[0m \u001b[0;34m=\u001b[0m \u001b[0mdf\u001b[0m\u001b[0;34m.\u001b[0m\u001b[0mcorr\u001b[0m\u001b[0;34m(\u001b[0m\u001b[0;34m)\u001b[0m\u001b[0;34m)\u001b[0m\u001b[0;34m\u001b[0m\u001b[0;34m\u001b[0m\u001b[0m\n\u001b[0m\u001b[1;32m     26\u001b[0m \u001b[0;34m\u001b[0m\u001b[0m\n",
            "\u001b[0;32m/usr/local/lib/python3.7/dist-packages/seaborn/_decorators.py\u001b[0m in \u001b[0;36minner_f\u001b[0;34m(*args, **kwargs)\u001b[0m\n\u001b[1;32m     44\u001b[0m             )\n\u001b[1;32m     45\u001b[0m         \u001b[0mkwargs\u001b[0m\u001b[0;34m.\u001b[0m\u001b[0mupdate\u001b[0m\u001b[0;34m(\u001b[0m\u001b[0;34m{\u001b[0m\u001b[0mk\u001b[0m\u001b[0;34m:\u001b[0m \u001b[0marg\u001b[0m \u001b[0;32mfor\u001b[0m \u001b[0mk\u001b[0m\u001b[0;34m,\u001b[0m \u001b[0marg\u001b[0m \u001b[0;32min\u001b[0m \u001b[0mzip\u001b[0m\u001b[0;34m(\u001b[0m\u001b[0msig\u001b[0m\u001b[0;34m.\u001b[0m\u001b[0mparameters\u001b[0m\u001b[0;34m,\u001b[0m \u001b[0margs\u001b[0m\u001b[0;34m)\u001b[0m\u001b[0;34m}\u001b[0m\u001b[0;34m)\u001b[0m\u001b[0;34m\u001b[0m\u001b[0;34m\u001b[0m\u001b[0m\n\u001b[0;32m---> 46\u001b[0;31m         \u001b[0;32mreturn\u001b[0m \u001b[0mf\u001b[0m\u001b[0;34m(\u001b[0m\u001b[0;34m**\u001b[0m\u001b[0mkwargs\u001b[0m\u001b[0;34m)\u001b[0m\u001b[0;34m\u001b[0m\u001b[0;34m\u001b[0m\u001b[0m\n\u001b[0m\u001b[1;32m     47\u001b[0m     \u001b[0;32mreturn\u001b[0m \u001b[0minner_f\u001b[0m\u001b[0;34m\u001b[0m\u001b[0;34m\u001b[0m\u001b[0m\n\u001b[1;32m     48\u001b[0m \u001b[0;34m\u001b[0m\u001b[0m\n",
            "\u001b[0;32m/usr/local/lib/python3.7/dist-packages/seaborn/matrix.py\u001b[0m in \u001b[0;36mheatmap\u001b[0;34m(data, vmin, vmax, cmap, center, robust, annot, fmt, annot_kws, linewidths, linecolor, cbar, cbar_kws, cbar_ax, square, xticklabels, yticklabels, mask, ax, **kwargs)\u001b[0m\n\u001b[1;32m    540\u001b[0m     plotter = _HeatMapper(data, vmin, vmax, cmap, center, robust, annot, fmt,\n\u001b[1;32m    541\u001b[0m                           \u001b[0mannot_kws\u001b[0m\u001b[0;34m,\u001b[0m \u001b[0mcbar\u001b[0m\u001b[0;34m,\u001b[0m \u001b[0mcbar_kws\u001b[0m\u001b[0;34m,\u001b[0m \u001b[0mxticklabels\u001b[0m\u001b[0;34m,\u001b[0m\u001b[0;34m\u001b[0m\u001b[0;34m\u001b[0m\u001b[0m\n\u001b[0;32m--> 542\u001b[0;31m                           yticklabels, mask)\n\u001b[0m\u001b[1;32m    543\u001b[0m \u001b[0;34m\u001b[0m\u001b[0m\n\u001b[1;32m    544\u001b[0m     \u001b[0;31m# Add the pcolormesh kwargs here\u001b[0m\u001b[0;34m\u001b[0m\u001b[0;34m\u001b[0m\u001b[0;34m\u001b[0m\u001b[0m\n",
            "\u001b[0;32m/usr/local/lib/python3.7/dist-packages/seaborn/matrix.py\u001b[0m in \u001b[0;36m__init__\u001b[0;34m(self, data, vmin, vmax, cmap, center, robust, annot, fmt, annot_kws, cbar, cbar_kws, xticklabels, yticklabels, mask)\u001b[0m\n\u001b[1;32m    158\u001b[0m         \u001b[0;31m# Determine good default values for the colormapping\u001b[0m\u001b[0;34m\u001b[0m\u001b[0;34m\u001b[0m\u001b[0;34m\u001b[0m\u001b[0m\n\u001b[1;32m    159\u001b[0m         self._determine_cmap_params(plot_data, vmin, vmax,\n\u001b[0;32m--> 160\u001b[0;31m                                     cmap, center, robust)\n\u001b[0m\u001b[1;32m    161\u001b[0m \u001b[0;34m\u001b[0m\u001b[0m\n\u001b[1;32m    162\u001b[0m         \u001b[0;31m# Sort out the annotations\u001b[0m\u001b[0;34m\u001b[0m\u001b[0;34m\u001b[0m\u001b[0;34m\u001b[0m\u001b[0m\n",
            "\u001b[0;32m/usr/local/lib/python3.7/dist-packages/seaborn/matrix.py\u001b[0m in \u001b[0;36m_determine_cmap_params\u001b[0;34m(self, plot_data, vmin, vmax, cmap, center, robust)\u001b[0m\n\u001b[1;32m    196\u001b[0m                 \u001b[0mvmin\u001b[0m \u001b[0;34m=\u001b[0m \u001b[0mnp\u001b[0m\u001b[0;34m.\u001b[0m\u001b[0mnanpercentile\u001b[0m\u001b[0;34m(\u001b[0m\u001b[0mcalc_data\u001b[0m\u001b[0;34m,\u001b[0m \u001b[0;36m2\u001b[0m\u001b[0;34m)\u001b[0m\u001b[0;34m\u001b[0m\u001b[0;34m\u001b[0m\u001b[0m\n\u001b[1;32m    197\u001b[0m             \u001b[0;32melse\u001b[0m\u001b[0;34m:\u001b[0m\u001b[0;34m\u001b[0m\u001b[0;34m\u001b[0m\u001b[0m\n\u001b[0;32m--> 198\u001b[0;31m                 \u001b[0mvmin\u001b[0m \u001b[0;34m=\u001b[0m \u001b[0mnp\u001b[0m\u001b[0;34m.\u001b[0m\u001b[0mnanmin\u001b[0m\u001b[0;34m(\u001b[0m\u001b[0mcalc_data\u001b[0m\u001b[0;34m)\u001b[0m\u001b[0;34m\u001b[0m\u001b[0;34m\u001b[0m\u001b[0m\n\u001b[0m\u001b[1;32m    199\u001b[0m         \u001b[0;32mif\u001b[0m \u001b[0mvmax\u001b[0m \u001b[0;32mis\u001b[0m \u001b[0;32mNone\u001b[0m\u001b[0;34m:\u001b[0m\u001b[0;34m\u001b[0m\u001b[0;34m\u001b[0m\u001b[0m\n\u001b[1;32m    200\u001b[0m             \u001b[0;32mif\u001b[0m \u001b[0mrobust\u001b[0m\u001b[0;34m:\u001b[0m\u001b[0;34m\u001b[0m\u001b[0;34m\u001b[0m\u001b[0m\n",
            "\u001b[0;32m<__array_function__ internals>\u001b[0m in \u001b[0;36mnanmin\u001b[0;34m(*args, **kwargs)\u001b[0m\n",
            "\u001b[0;32m/usr/local/lib/python3.7/dist-packages/numpy/lib/nanfunctions.py\u001b[0m in \u001b[0;36mnanmin\u001b[0;34m(a, axis, out, keepdims)\u001b[0m\n\u001b[1;32m    317\u001b[0m         \u001b[0;31m# Fast, but not safe for subclasses of ndarray, or object arrays,\u001b[0m\u001b[0;34m\u001b[0m\u001b[0;34m\u001b[0m\u001b[0;34m\u001b[0m\u001b[0m\n\u001b[1;32m    318\u001b[0m         \u001b[0;31m# which do not implement isnan (gh-9009), or fmin correctly (gh-8975)\u001b[0m\u001b[0;34m\u001b[0m\u001b[0;34m\u001b[0m\u001b[0;34m\u001b[0m\u001b[0m\n\u001b[0;32m--> 319\u001b[0;31m         \u001b[0mres\u001b[0m \u001b[0;34m=\u001b[0m \u001b[0mnp\u001b[0m\u001b[0;34m.\u001b[0m\u001b[0mfmin\u001b[0m\u001b[0;34m.\u001b[0m\u001b[0mreduce\u001b[0m\u001b[0;34m(\u001b[0m\u001b[0ma\u001b[0m\u001b[0;34m,\u001b[0m \u001b[0maxis\u001b[0m\u001b[0;34m=\u001b[0m\u001b[0maxis\u001b[0m\u001b[0;34m,\u001b[0m \u001b[0mout\u001b[0m\u001b[0;34m=\u001b[0m\u001b[0mout\u001b[0m\u001b[0;34m,\u001b[0m \u001b[0;34m**\u001b[0m\u001b[0mkwargs\u001b[0m\u001b[0;34m)\u001b[0m\u001b[0;34m\u001b[0m\u001b[0;34m\u001b[0m\u001b[0m\n\u001b[0m\u001b[1;32m    320\u001b[0m         \u001b[0;32mif\u001b[0m \u001b[0mnp\u001b[0m\u001b[0;34m.\u001b[0m\u001b[0misnan\u001b[0m\u001b[0;34m(\u001b[0m\u001b[0mres\u001b[0m\u001b[0;34m)\u001b[0m\u001b[0;34m.\u001b[0m\u001b[0many\u001b[0m\u001b[0;34m(\u001b[0m\u001b[0;34m)\u001b[0m\u001b[0;34m:\u001b[0m\u001b[0;34m\u001b[0m\u001b[0;34m\u001b[0m\u001b[0m\n\u001b[1;32m    321\u001b[0m             warnings.warn(\"All-NaN slice encountered\", RuntimeWarning,\n",
            "\u001b[0;31mValueError\u001b[0m: zero-size array to reduction operation fmin which has no identity"
          ]
        },
        {
          "output_type": "display_data",
          "data": {
            "image/png": "[encoded data removed]",
            "text/plain": [
              "<Figure size 432x288 with 1 Axes>"
            ]
          },
          "metadata": {
            "needs_background": "light"
          }
        },
        {
          "output_type": "display_data",
          "data": {
            "image/png": "[encoded data removed]",
            "text/plain": [
              "<Figure size 360x360 with 1 Axes>"
            ]
          },
          "metadata": {
            "needs_background": "light"
          }
        }
      ],
      "source": [
        "# Your answer here (code + explanation):\n",
        "import pandas as pd\n",
        "import requests\n",
        "import io\n",
        "import seaborn as sns\n",
        "import matplotlib\n",
        "import matplotlib.pyplot as plt\n",
        "\n",
        "url_file = 'https://raw.githubusercontent.com/unt-iialab/info5502-spring2022/main/datasets/lab-assignment-04-student-performance.csv'\n",
        "\n",
        "df = pd.read_csv(url_file)\n",
        "print(pd.DataFrame({'Missing Values': df.isna().sum()}))\n",
        "print(df.head())\n",
        "print(df.describe())\n",
        "\n",
        "df['sh'].value_counts().plot(kind = 'bar')\n",
        "\n",
        "sns.catplot(x = 'sh', y = 'esp', data = df)\n",
        "\n",
        "#store the correlations as 'corr'\n",
        "corr = df.corr()\n",
        "\n",
        "# plot the heatmap\n",
        "\n",
        "sns.heatmap(data = df.corr())\n",
        "\n"
      ]
    },
    {
      "cell_type": "markdown",
      "metadata": {
        "id": "IL2KcRHIofqk"
      },
      "source": [
        "Question 3 (15 points). Download a dataset from Kaggle or other sources. Propose three questions that you wanna to know from the dataset, then write python code to conduct EDA analysis to answer the three questions"
      ]
    },
    {
      "cell_type": "code",
      "execution_count": null,
      "metadata": {
        "id": "0csOSBT7ofql",
        "outputId": "a0430591-a9c2-49e4-9c20-c1bd3be638c1"
      },
      "outputs": [
        {
          "data": {
            "text/plain": [
              "'\\nPlease list your questions here:\\n\\n\\n\\n\\n\\n'"
            ]
          },
          "execution_count": 7,
          "metadata": {},
          "output_type": "execute_result"
        }
      ],
      "source": [
        "# Your three questions:\n",
        "\n",
        "'''\n",
        "Please list your questions here:\n",
        "1. What's the average quality of the wine?\n",
        "2. What's the correlation between fixed acidity and citric acid?\n",
        "3. What's the correlation between quality and residual sugar?\n",
        "\n",
        "\n",
        "\n",
        "\n",
        "'''"
      ]
    },
    {
      "cell_type": "code",
      "execution_count": null,
      "metadata": {
        "colab": {
          "base_uri": "https://localhost:8080/",
          "height": 1000
        },
        "id": "Eu00Aqf4ofql",
        "outputId": "8145680e-34be-4d0a-b528-369c07d9a99f"
      },
      "outputs": [
        {
          "name": "stdout",
          "output_type": "stream",
          "text": [
            "                      Missing Values\n",
            "fixed acidity                      0\n",
            "volatile acidity                   0\n",
            "citric acid                        0\n",
            "residual sugar                     0\n",
            "chlorides                          0\n",
            "free sulfur dioxide                0\n",
            "total sulfur dioxide               0\n",
            "density                            0\n",
            "pH                                 0\n",
            "sulphates                          0\n",
            "alcohol                            0\n",
            "quality                            0\n",
            "Id                                 0\n",
            "       fixed acidity  volatile acidity  ...      quality           Id\n",
            "count    1143.000000       1143.000000  ...  1143.000000  1143.000000\n",
            "mean        8.311111          0.531339  ...     5.657043   804.969379\n",
            "std         1.747595          0.179633  ...     0.805824   463.997116\n",
            "min         4.600000          0.120000  ...     3.000000     0.000000\n",
            "25%         7.100000          0.392500  ...     5.000000   411.000000\n",
            "50%         7.900000          0.520000  ...     6.000000   794.000000\n",
            "75%         9.100000          0.640000  ...     6.000000  1209.500000\n",
            "max        15.900000          1.580000  ...     8.000000  1597.000000\n",
            "\n",
            "[8 rows x 13 columns]\n",
            "<class 'pandas.core.frame.DataFrame'>\n",
            "RangeIndex: 1143 entries, 0 to 1142\n",
            "Data columns (total 13 columns):\n",
            " #   Column                Non-Null Count  Dtype  \n",
            "---  ------                --------------  -----  \n",
            " 0   fixed acidity         1143 non-null   float64\n",
            " 1   volatile acidity      1143 non-null   float64\n",
            " 2   citric acid           1143 non-null   float64\n",
            " 3   residual sugar        1143 non-null   float64\n",
            " 4   chlorides             1143 non-null   float64\n",
            " 5   free sulfur dioxide   1143 non-null   float64\n",
            " 6   total sulfur dioxide  1143 non-null   float64\n",
            " 7   density               1143 non-null   float64\n",
            " 8   pH                    1143 non-null   float64\n",
            " 9   sulphates             1143 non-null   float64\n",
            " 10  alcohol               1143 non-null   float64\n",
            " 11  quality               1143 non-null   int64  \n",
            " 12  Id                    1143 non-null   int64  \n",
            "dtypes: float64(11), int64(2)\n",
            "memory usage: 116.2 KB\n"
          ]
        },
        {
          "data": {
            "text/plain": [
              "Text(0.5, 1.0, 'Wine Correlation')"
            ]
          },
          "execution_count": 33,
          "metadata": {},
          "output_type": "execute_result"
        },
        {
          "data": {
            "image/png": "[encoded data removed]",
            "text/plain": [
              "<Figure size 432x288 with 2 Axes>"
            ]
          },
          "metadata": {},
          "output_type": "display_data"
        }
      ],
      "source": [
        "# You code to answer the three questions (Please add comments in the code):\n",
        "\n",
        "import pandas as pd\n",
        "import numpy as np\n",
        "import seaborn as sns\n",
        "\n",
        "wine_data = pd.read_csv('/content/drive/MyDrive/Lab4/WineQT.csv')\n",
        "df.head\n",
        "\n",
        "#check for any missing values\n",
        "print(pd.DataFrame({'Missing Values': wine_data.isna().sum()}))\n",
        "\n",
        "#describe the data to answer question 1\n",
        "print(wine_data.describe())\n",
        "\n",
        "\n",
        "#Create a heat map to visualize the correlations and answer questions 2 and 3\n",
        "sns.heatmap(data = wine_data.corr())\n",
        "plt.title(\"Wine Correlation\")\n",
        "\n",
        "\n",
        "\n",
        "\n",
        "\n",
        "\n",
        "\n"
      ]
    }
  ],
  "metadata": {
    "colab": {
      "collapsed_sections": [],
      "name": "lab_assignment_04.ipynb",
      "provenance": [],
      "include_colab_link": true
    },
    "kernelspec": {
      "display_name": "Python 3",
      "language": "python",
      "name": "python3"
    },
    "language_info": {
      "codemirror_mode": {
        "name": "ipython",
        "version": 3
      },
      "file_extension": ".py",
      "mimetype": "text/x-python",
      "name": "python",
      "nbconvert_exporter": "python",
      "pygments_lexer": "ipython3",
      "version": "3.9.6"
    }
  },
  "nbformat": 4,
  "nbformat_minor": 0
}