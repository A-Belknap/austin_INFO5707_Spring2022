{
  "cells": [
    {
      "cell_type": "markdown",
      "metadata": {
        "id": "view-in-github",
        "colab_type": "text"
      },
      "source": [
        "<a href=\"https://colab.research.google.com/github/A-Belknap/austin_INFO5707_Spring2022/blob/main/lab_assignment_09.ipynb\" target=\"_parent\"><img src=\"https://colab.research.google.com/assets/colab-badge.svg\" alt=\"Open In Colab\"/></a>"
      ]
    },
    {
      "cell_type": "markdown",
      "metadata": {
        "id": "Qv11zia3rVK8"
      },
      "source": [
        "## The ninth Lab-assignment (04/14/2022, 50 points in total)"
      ]
    },
    {
      "cell_type": "markdown",
      "metadata": {
        "id": "StfvxRkurVK_"
      },
      "source": [
        "The purpose of this assignment is to practice different Hypothesis Testing."
      ]
    },
    {
      "cell_type": "markdown",
      "metadata": {
        "id": "ElsqUIIRrVLA"
      },
      "source": [
        "### Question 1 (15 points) \n",
        "\n",
        "During the 1980s, the general consensus is that about 5% of the nation’s children had autism. Some claimed that increases certain chemicals in the environment has led to an increase in autism. \n",
        "\n",
        "(1) Write an appropriate hypothesis test for this situation (5 points).  \n",
        "\n",
        "(2) Give an appropriate test for this hypothesis, stating what are the necessary conditions for performing the test (5 points). \n",
        "\n",
        "(3) A recent study examined 384 children and found that 46 showed signs of autism. Perform a test of the hypothesis and state the p-value (5 points). "
      ]
    },
    {
      "cell_type": "code",
      "execution_count": null,
      "metadata": {
        "id": "09edPky8rVLB"
      },
      "outputs": [],
      "source": [
        "# You answer here\n",
        "\"\"\"1) H0: p=0.05, H1: p>0.05\n",
        "   2) Use a one sided z-score test, we need n=384, observed population(pop1)=46/384,\n",
        "      hypothezized population(pop0)=0.05\n",
        "   3) z_score=(pop1-pop0)/(((pop0*(1-pop0))/n)**(0.5))\n",
        "\"\"\""
      ]
    },
    {
      "cell_type": "code",
      "execution_count": 76,
      "metadata": {
        "colab": {
          "base_uri": "https://localhost:8080/"
        },
        "id": "OAel1MWErVLC",
        "outputId": "c859db46-15ef-4b55-a060-c823b77c26b5"
      },
      "outputs": [
        {
          "output_type": "stream",
          "name": "stdout",
          "text": [
            "z-score: 6.27512493759735\n",
            "p-value: 1.7467682501956986e-10\n"
          ]
        }
      ],
      "source": [
        "# your code here\n",
        "import scipy.stats\n",
        "# set the necessary variables to calculate the z-score\n",
        "n = 384\n",
        "pop0 = 0.05\n",
        "pop1 = (46/n)\n",
        "\n",
        "# calculate the z-score\n",
        "z_score = (pop1-pop0)/(((pop0*(1-pop0))/n)**(0.5))\n",
        "\n",
        "# find p-value\n",
        "p_value = scipy.stats.norm.sf(abs(z_score))\n",
        "\n",
        "print(\"z-score:\", z_score)\n",
        "print(\"p-value:\", p_value)"
      ]
    },
    {
      "cell_type": "markdown",
      "metadata": {
        "id": "OsVVVvJJrVLC"
      },
      "source": [
        "### Question 2 (15 points) \n",
        "\n",
        "National data in the 1960s showed that about 44% of the adult population had never smoked. \n",
        "\n",
        "(1) State a null and alternative hypothesis to test that the fraction of the 1995 population of adults that had never smoked had increased (5 points).  \n",
        "\n",
        "(2) A national random sample of 891 adults were interviewed and 463 stated that they had never smoked. Perform a z-test of the hypothesis and give an approriate p-value (5 points). \n",
        "\n",
        "(3) Create a 98% confidence interval for the proportion of adults who had never been smokers (5 points). "
      ]
    },
    {
      "cell_type": "code",
      "execution_count": null,
      "metadata": {
        "id": "WaqReOoUrVLD"
      },
      "outputs": [],
      "source": [
        "# You answer here\n",
        "\"\"\"1) H0: p=0.44, H1: p>0.44\n",
        "\"\"\""
      ]
    },
    {
      "cell_type": "code",
      "execution_count": 78,
      "metadata": {
        "colab": {
          "base_uri": "https://localhost:8080/"
        },
        "id": "DdZMd6zwrVLD",
        "outputId": "d65199c9-b69e-4a5f-c557-9d30a7ab8223"
      },
      "outputs": [
        {
          "output_type": "stream",
          "name": "stdout",
          "text": [
            "z-score: 4.7891054863903095\n",
            "p-value: 8.376320241379403e-07\n",
            "98% confidence interval:\n",
            "lower CI: 0.40131379241284104\n",
            "upper CI: 0.47868620758715896\n"
          ]
        }
      ],
      "source": [
        "# your code here\n",
        "import scipy.stats\n",
        "# set the necessary variables to calculate the z-score\n",
        "n = 891\n",
        "pop0 = 0.44\n",
        "pop1 = (463/n)\n",
        "\n",
        "# calculate the z-score\n",
        "z_score = (pop1-pop0)/(((pop0*(1-pop0))/n)**(0.5))\n",
        "\n",
        "# find p-value\n",
        "p_value = scipy.stats.norm.sf(abs(z_score))\n",
        "\n",
        "# find 98% confidence interval\n",
        "confidence_level = .98\n",
        "num_tails = 2\n",
        "alpha = (1 - confidence_level)/num_tails\n",
        "sigma = (((pop0*(1-pop0))/n)**(0.5))\n",
        "\n",
        "# find z-critical\n",
        "z_critical = scipy.stats.norm.ppf(1 - alpha)\n",
        "\n",
        "# find confidence interval\n",
        "lowerCI = pop0 - (z_critical * sigma)\n",
        "upperCI = pop0 + (z_critical * sigma)\n",
        "\n",
        "print(\"z-score:\", z_score)\n",
        "print(\"p-value:\", p_value)\n",
        "print('98% confidence interval:')\n",
        "print(\"lower CI:\", lowerCI)\n",
        "print(\"upper CI:\", upperCI)"
      ]
    },
    {
      "cell_type": "markdown",
      "metadata": {
        "id": "4Bsciq74rVLD"
      },
      "source": [
        "### Question 3 (15 points) \n",
        "In this problem,we will examine the sugar content of several national brands of cereals, here measured as a percentage of weight.\n",
        "\n",
        "\n",
        "\n",
        "(1) Give a summary of these two datasets (5 points). \n",
        "\n",
        "(2) Create side-by-side boxplots and interpret what you see (5 points). \n",
        "\n",
        "(3) Use python to create a 95% confidence interval for the difference in mean sugar content and explain your result (5 points). "
      ]
    },
    {
      "cell_type": "code",
      "execution_count": null,
      "metadata": {
        "id": "mGgln4mwrVLE"
      },
      "outputs": [],
      "source": [
        "# You answer here\n",
        "\"\"\"By looking at the two datasets it appears that the amount of sugar in the\n",
        "children's cereals is much higher than those of the adult cereals.\n",
        "\n",
        "After creating the boxplots we can see that the mean amount of sugar in childrens\n",
        "cereal is indeed higher than that of adult cereal.\n",
        "\"\"\"\n"
      ]
    },
    {
      "cell_type": "code",
      "execution_count": 80,
      "metadata": {
        "colab": {
          "base_uri": "https://localhost:8080/"
        },
        "id": "iYfyrf9HrVLE",
        "outputId": "a78ff6c2-f62d-4979-ac68-bc4ba9ef26d5"
      },
      "outputs": [
        {
          "output_type": "stream",
          "name": "stdout",
          "text": [
            "95% confidence interval:\n",
            "lower CI: -51.061231501794914\n",
            "upper CI: 124.35155408244006\n"
          ]
        }
      ],
      "source": [
        "# your code here\n",
        "import numpy as np\n",
        "import pandas as pd\n",
        "import seaborn as sns\n",
        "import matplotlib.pyplot as plt\n",
        "import math\n",
        "import scipy.stats\n",
        "\n",
        "# create datasets\n",
        "children = [40.3, 55.0, 45.7, 43.3, 50.3, 45.9, 53.5, 43.0, 44.2, 44.0, 33.6, 55.1, 48.8, 50.4, 37.8, 60.3, 46.6, 47.4, 44.0]\n",
        "adult = [20.0, 30.2, 2.2, 7.5, 4.4, 22.2, 16.6, 14.5, 21.4, 3.3, 10.0, 1.0, 4.4, 1.3, 8.1, 6.6, 7.8, 10.6, 10.6, 16.2, 14.5, 4.1, 15.8, 4.1, 15.8, 4.1, 2.4, 3.5, 8.5, 4.7, 18.4]\n",
        "\n",
        "# create dictionaries\n",
        "dict1 = {'Sugar': children}\n",
        "dict2 = {'Sugar': adult}\n",
        "\n",
        "# create dataframs\n",
        "df_child = pd.DataFrame(dict1)\n",
        "df_adult = pd.DataFrame(dict2)\n",
        "\n",
        "# create side by side boxplot\n",
        "fig, axes = plt.subplots(1,2, figsize=(15,6), sharey=True)\n",
        "\n",
        "sns.boxplot(ax=axes[0], y=df_child['Sugar'])\n",
        "axes[0].set_title('Children')\n",
        "sns.boxplot(ax=axes[1], y=df_adult['Sugar'])\n",
        "axes[1].set_title('Adult')\n",
        "\n",
        "# calculate sample size\n",
        "child_n = df_child['Sugar'].count()\n",
        "adult_n = df_adult['Sugar'].count()\n",
        "\n",
        "# caluclate sample means\n",
        "child_mean = df_child['Sugar'].mean()\n",
        "adult_mean = df_adult['Sugar'].mean()\n",
        "\n",
        "# calculate sample variance\n",
        "child_v = np.var(df_child['Sugar'], ddof=1)\n",
        "adult_v = np.var(df_adult['Sugar'], ddof=1)\n",
        "\n",
        "# find pooled standard error\n",
        "pooled_se = np.sqrt(child_v / child_n + adult_v / adult_n)\n",
        "delta = child_mean-adult_mean\n",
        "    \n",
        "tstat = delta /  pooled_se\n",
        "df = (child_v / child_n + adult_v / adult_n)**2 / (child_v**2 / (child_n**2 * (child_n - 1)) + adult_v**2 / (adult_n**2 * (adult_n - 1)))\n",
        "    \n",
        "# two side t-test\n",
        "p = 2 * scipy.stats.norm.cdf(-abs(tstat), df)\n",
        "    \n",
        "# find confidence interval\n",
        "lowerCI = delta - scipy.stats.norm.ppf(0.975, df)*pooled_se \n",
        "upperCI = delta + scipy.stats.norm.ppf(0.975, df)*pooled_se\n",
        "\n",
        "print('95% confidence interval:')\n",
        "print(\"lower CI:\", lowerCI)\n",
        "print(\"upper CI:\", upperCI)"
      ]
    },
    {
      "cell_type": "markdown",
      "metadata": {
        "id": "-yphQWN7rVLF"
      },
      "source": [
        "### Question 4 (15 points, with 10 extra point included) A/B Testing"
      ]
    },
    {
      "cell_type": "markdown",
      "metadata": {
        "id": "ZNyAl-EgrVLF"
      },
      "source": [
        "Punishment for crime has many [philosophical justifications](http://plato.stanford.edu/entries/punishment/#ThePun).  An important one is that fear of punishment may *deter* people from committing crimes.\n",
        "\n",
        "In the United States, some jurisdictions execute people who are convicted of particularly serious crimes, such as murder.  This punishment is called the *death penalty* or *capital punishment*.  The death penalty is controversial, and deterrence has been one focal point of the debate.  There are other reasons to support or oppose the death penalty, but in this project we'll focus on deterrence.\n",
        "\n",
        "The key question about deterrence is:\n",
        "\n",
        "> Through our exploration, does instituting a death penalty for murder actually reduce the number of murders?\n",
        "\n",
        "You might have a strong intuition in one direction, but the evidence turns out to be surprisingly complex.  Different sides have variously argued that the death penalty has no deterrent effect and that each execution prevents 8 murders, all using statistical arguments!  We'll try to come to our own conclusion.\n",
        "\n",
        "#### The data\n",
        "\n",
        "The main data source for this lab comes from a [paper](http://cjlf.org/deathpenalty/DezRubShepDeterFinal.pdf) by three researchers, Dezhbakhsh, Rubin, and Shepherd.  The dataset contains rates of various violent crimes for every year 1960-2003 (44 years) in every US state.  The researchers compiled the data from the FBI's Uniform Crime Reports.\n",
        "\n",
        "Since crimes are committed by people, not states, we need to account for the number of people in each state when we're looking at state-level data.  Murder rates are calculated as follows:\n",
        "\n",
        "$$\\text{murder rate for state X in year Y} = \\frac{\\text{number of murders in state X in year Y}}{\\text{population in state X in year Y}}*100000$$\n",
        "\n",
        "(Murder is rare, so we multiply by 100,000 just to avoid dealing with tiny numbers.)\n",
        "\n",
        "Murder rates vary over time, and different states exhibit different trends. The rates in some states change dramatically from year to year, while others are quite stable. Let's plot a couple, just to see the variety.\n",
        "\n",
        "*Hint*: To create two lines, you will need create the table `ak_mn` with two columns of murder rates, in addition to a column of years. This table will have the following structure:\n",
        "\n",
        "| Year | Murder rate in Alaska | Murder rate in Minnesota |\n",
        "|------|-----------------------|--------------------------|\n",
        "| 1960 | 10.2                  | 1.2                      |\n",
        "| 1961 | 11.5                  | 1                        |\n",
        "| 1962 | 4.5                   | 0.9                      |\n",
        "\n",
        "<center>... (41 rows omitted)</center>\n",
        "\n",
        "Some US states have the death penalty, and others don't, and laws have changed over time. In addition to changes in murder rates, we will also consider whether the death penalty was in force in each state and each year.\n",
        "\n",
        "Using this information, we would like to investigate how the presence of the death penalty affects the murder rate of a state."
      ]
    },
    {
      "cell_type": "markdown",
      "metadata": {
        "id": "KP7kzeEerVLG"
      },
      "source": [
        "(1) Use preban_rates_copy and postban_rates to create a table change_in_death_rates that contains each state's population, murder rate, and whether or not that state had the death penalty for both 1971 and 1973. (5 points)\n",
        "\n",
        "Create a table rate_means that contains the average murder rates for the states that had the death penalty and the states that didn't have the death penalty. It should have two columns: one indicating if the penalty was in place, and one that contains the average murder rate for each group.\n",
        "\n",
        "Hint: tbl_1.append(tbl_2) with create a new table that includes rows from both tbl_1 and tbl_2. Both tables must have the exactly the same columns, in the same order.\n",
        "\n",
        "(2) We want to figure out if there is a difference between the distribution of death rates in 1971 and 1973. Specifically, we want to test if murder rates were higher in 1973 than they were in 1971. You are required to conduct A/B Testing below (10 points):\n",
        "\n",
        "(2-1) Set observed_difference to the observed test statistic using the rate_means table. \n",
        "\n",
        "\n",
        "(2-2) Given a table like change_in_death_rates, a value column label, and a group column group_label, write a function that calculates the appropriate test statistic.\n",
        "\n",
        "(2-3) Write a function simulate_and_test_statistic to compute one trial of our A/B test. Your function should run a simulation and return a test statistic.\n",
        "\n",
        "(2-4) Simulate 5000 trials of our A/B test and store the test statistics in an array called differences.\n",
        "\n",
        "(2-5) Find the p-value for your test and assign it to empirical_P.\n",
        "\n",
        "(2-6) Using a 5% P-value cutoff, draw a conclusion about the null and alternative hypotheses. Describe your findings using simple, non-technical language. What does your analysis tell you about murder rates after the death penalty was suspended? What can you claim about causation from your statistical analysis?\n"
      ]
    },
    {
      "cell_type": "code",
      "source": [
        "from google.colab import drive\n",
        "drive.mount('/content/drive')"
      ],
      "metadata": {
        "colab": {
          "base_uri": "https://localhost:8080/"
        },
        "id": "wy9yBk-kRK2-",
        "outputId": "baf01544-523e-40bf-cbbd-ea548053911f"
      },
      "execution_count": 81,
      "outputs": [
        {
          "output_type": "stream",
          "name": "stdout",
          "text": [
            "Drive already mounted at /content/drive; to attempt to forcibly remount, call drive.mount(\"/content/drive\", force_remount=True).\n"
          ]
        }
      ]
    },
    {
      "cell_type": "code",
      "execution_count": null,
      "metadata": {
        "id": "xgLJ5yQLrVLH"
      },
      "outputs": [],
      "source": [
        "# You answer here\n",
        "\"\"\" The difference in death from preban to postban is not significant, meaning it is closer to the null of the rates not changing. We cannot determine causation from this analysis\"\"\"\n"
      ]
    },
    {
      "cell_type": "code",
      "execution_count": 83,
      "metadata": {
        "colab": {
          "base_uri": "https://localhost:8080/",
          "height": 419
        },
        "id": "m2fCjiFgrVLI",
        "outputId": "0ee01588-8bbe-470d-c6eb-b0a3d7765fd9"
      },
      "outputs": [
        {
          "output_type": "execute_result",
          "data": {
            "text/plain": [
              "        State  Year  Population  Violent Crime Rate  Murder Rate  \\\n",
              "0      Alaska  1960      226167          104.300003         10.2   \n",
              "1      Alaska  1961      234000           88.900002         11.5   \n",
              "2      Alaska  1962      246000           91.500000          4.5   \n",
              "3      Alaska  1963      248000          109.699997          6.5   \n",
              "4      Alaska  1964      250000          150.000000         10.4   \n",
              "...       ...   ...         ...                 ...          ...   \n",
              "2195  Wyoming  1999      480000          232.500000          2.3   \n",
              "2196  Wyoming  2000      493782          266.500000          2.4   \n",
              "2197  Wyoming  2001      494423          257.299988          1.8   \n",
              "2198  Wyoming  2002      498830          273.399994          3.0   \n",
              "2199  Wyoming  2003      501242          262.100006          2.8   \n",
              "\n",
              "      Forcible Rape Rate  Robbery Rate  Aggraveted Assault Rate  \\\n",
              "0              20.799999     28.299999                45.099998   \n",
              "1              13.200000     12.400000                51.700001   \n",
              "2              18.700001     13.800000                54.500000   \n",
              "3              14.900000     22.200001                66.099998   \n",
              "4              22.400000     21.200001                96.000000   \n",
              "...                  ...           ...                      ...   \n",
              "2195           28.600000     15.400000               186.199997   \n",
              "2196           32.400002     14.200000               217.500000   \n",
              "2197           30.900000     17.000000               207.500000   \n",
              "2198           29.700001     18.600000               222.100006   \n",
              "2199           27.100000     16.799999               215.500000   \n",
              "\n",
              "      Property Crime Rate  Burglary Rate  Larceny & Theft Rate  \\\n",
              "0             1544.900024     332.100006            970.500000   \n",
              "1             1540.599976     380.799988            950.000000   \n",
              "2             1564.599976     351.600006            985.400024   \n",
              "3             1952.800049     381.500000           1213.699951   \n",
              "4             2016.000000     443.600006           1218.400024   \n",
              "...                   ...            ...                   ...   \n",
              "2195          3225.199951     489.799988           2611.100098   \n",
              "2196          3031.500000     420.799988           2494.600098   \n",
              "2197          3260.399902     501.799988           2617.800049   \n",
              "2198          3306.500000     490.700012           2666.800049   \n",
              "2199          3321.300049     520.900024           2641.199951   \n",
              "\n",
              "      Motor Vehicle Theft Rate  \n",
              "0                   242.300003  \n",
              "1                   209.800003  \n",
              "2                   227.600006  \n",
              "3                   357.700012  \n",
              "4                   354.000000  \n",
              "...                        ...  \n",
              "2195                124.300003  \n",
              "2196                116.000000  \n",
              "2197                140.800003  \n",
              "2198                148.899994  \n",
              "2199                159.199997  \n",
              "\n",
              "[2200 rows x 12 columns]"
            ],
            "text/html": [
              "\n",
              "  <div id=\"df-650875f6-2e9e-43e7-bd4d-061bcd889ad5\">\n",
              "    <div class=\"colab-df-container\">\n",
              "      <div>\n",
              "<style scoped>\n",
              "    .dataframe tbody tr th:only-of-type {\n",
              "        vertical-align: middle;\n",
              "    }\n",
              "\n",
              "    .dataframe tbody tr th {\n",
              "        vertical-align: top;\n",
              "    }\n",
              "\n",
              "    .dataframe thead th {\n",
              "        text-align: right;\n",
              "    }\n",
              "</style>\n",
              "<table border=\"1\" class=\"dataframe\">\n",
              "  <thead>\n",
              "    <tr style=\"text-align: right;\">\n",
              "      <th></th>\n",
              "      <th>State</th>\n",
              "      <th>Year</th>\n",
              "      <th>Population</th>\n",
              "      <th>Violent Crime Rate</th>\n",
              "      <th>Murder Rate</th>\n",
              "      <th>Forcible Rape Rate</th>\n",
              "      <th>Robbery Rate</th>\n",
              "      <th>Aggraveted Assault Rate</th>\n",
              "      <th>Property Crime Rate</th>\n",
              "      <th>Burglary Rate</th>\n",
              "      <th>Larceny &amp; Theft Rate</th>\n",
              "      <th>Motor Vehicle Theft Rate</th>\n",
              "    </tr>\n",
              "  </thead>\n",
              "  <tbody>\n",
              "    <tr>\n",
              "      <th>0</th>\n",
              "      <td>Alaska</td>\n",
              "      <td>1960</td>\n",
              "      <td>226167</td>\n",
              "      <td>104.300003</td>\n",
              "      <td>10.2</td>\n",
              "      <td>20.799999</td>\n",
              "      <td>28.299999</td>\n",
              "      <td>45.099998</td>\n",
              "      <td>1544.900024</td>\n",
              "      <td>332.100006</td>\n",
              "      <td>970.500000</td>\n",
              "      <td>242.300003</td>\n",
              "    </tr>\n",
              "    <tr>\n",
              "      <th>1</th>\n",
              "      <td>Alaska</td>\n",
              "      <td>1961</td>\n",
              "      <td>234000</td>\n",
              "      <td>88.900002</td>\n",
              "      <td>11.5</td>\n",
              "      <td>13.200000</td>\n",
              "      <td>12.400000</td>\n",
              "      <td>51.700001</td>\n",
              "      <td>1540.599976</td>\n",
              "      <td>380.799988</td>\n",
              "      <td>950.000000</td>\n",
              "      <td>209.800003</td>\n",
              "    </tr>\n",
              "    <tr>\n",
              "      <th>2</th>\n",
              "      <td>Alaska</td>\n",
              "      <td>1962</td>\n",
              "      <td>246000</td>\n",
              "      <td>91.500000</td>\n",
              "      <td>4.5</td>\n",
              "      <td>18.700001</td>\n",
              "      <td>13.800000</td>\n",
              "      <td>54.500000</td>\n",
              "      <td>1564.599976</td>\n",
              "      <td>351.600006</td>\n",
              "      <td>985.400024</td>\n",
              "      <td>227.600006</td>\n",
              "    </tr>\n",
              "    <tr>\n",
              "      <th>3</th>\n",
              "      <td>Alaska</td>\n",
              "      <td>1963</td>\n",
              "      <td>248000</td>\n",
              "      <td>109.699997</td>\n",
              "      <td>6.5</td>\n",
              "      <td>14.900000</td>\n",
              "      <td>22.200001</td>\n",
              "      <td>66.099998</td>\n",
              "      <td>1952.800049</td>\n",
              "      <td>381.500000</td>\n",
              "      <td>1213.699951</td>\n",
              "      <td>357.700012</td>\n",
              "    </tr>\n",
              "    <tr>\n",
              "      <th>4</th>\n",
              "      <td>Alaska</td>\n",
              "      <td>1964</td>\n",
              "      <td>250000</td>\n",
              "      <td>150.000000</td>\n",
              "      <td>10.4</td>\n",
              "      <td>22.400000</td>\n",
              "      <td>21.200001</td>\n",
              "      <td>96.000000</td>\n",
              "      <td>2016.000000</td>\n",
              "      <td>443.600006</td>\n",
              "      <td>1218.400024</td>\n",
              "      <td>354.000000</td>\n",
              "    </tr>\n",
              "    <tr>\n",
              "      <th>...</th>\n",
              "      <td>...</td>\n",
              "      <td>...</td>\n",
              "      <td>...</td>\n",
              "      <td>...</td>\n",
              "      <td>...</td>\n",
              "      <td>...</td>\n",
              "      <td>...</td>\n",
              "      <td>...</td>\n",
              "      <td>...</td>\n",
              "      <td>...</td>\n",
              "      <td>...</td>\n",
              "      <td>...</td>\n",
              "    </tr>\n",
              "    <tr>\n",
              "      <th>2195</th>\n",
              "      <td>Wyoming</td>\n",
              "      <td>1999</td>\n",
              "      <td>480000</td>\n",
              "      <td>232.500000</td>\n",
              "      <td>2.3</td>\n",
              "      <td>28.600000</td>\n",
              "      <td>15.400000</td>\n",
              "      <td>186.199997</td>\n",
              "      <td>3225.199951</td>\n",
              "      <td>489.799988</td>\n",
              "      <td>2611.100098</td>\n",
              "      <td>124.300003</td>\n",
              "    </tr>\n",
              "    <tr>\n",
              "      <th>2196</th>\n",
              "      <td>Wyoming</td>\n",
              "      <td>2000</td>\n",
              "      <td>493782</td>\n",
              "      <td>266.500000</td>\n",
              "      <td>2.4</td>\n",
              "      <td>32.400002</td>\n",
              "      <td>14.200000</td>\n",
              "      <td>217.500000</td>\n",
              "      <td>3031.500000</td>\n",
              "      <td>420.799988</td>\n",
              "      <td>2494.600098</td>\n",
              "      <td>116.000000</td>\n",
              "    </tr>\n",
              "    <tr>\n",
              "      <th>2197</th>\n",
              "      <td>Wyoming</td>\n",
              "      <td>2001</td>\n",
              "      <td>494423</td>\n",
              "      <td>257.299988</td>\n",
              "      <td>1.8</td>\n",
              "      <td>30.900000</td>\n",
              "      <td>17.000000</td>\n",
              "      <td>207.500000</td>\n",
              "      <td>3260.399902</td>\n",
              "      <td>501.799988</td>\n",
              "      <td>2617.800049</td>\n",
              "      <td>140.800003</td>\n",
              "    </tr>\n",
              "    <tr>\n",
              "      <th>2198</th>\n",
              "      <td>Wyoming</td>\n",
              "      <td>2002</td>\n",
              "      <td>498830</td>\n",
              "      <td>273.399994</td>\n",
              "      <td>3.0</td>\n",
              "      <td>29.700001</td>\n",
              "      <td>18.600000</td>\n",
              "      <td>222.100006</td>\n",
              "      <td>3306.500000</td>\n",
              "      <td>490.700012</td>\n",
              "      <td>2666.800049</td>\n",
              "      <td>148.899994</td>\n",
              "    </tr>\n",
              "    <tr>\n",
              "      <th>2199</th>\n",
              "      <td>Wyoming</td>\n",
              "      <td>2003</td>\n",
              "      <td>501242</td>\n",
              "      <td>262.100006</td>\n",
              "      <td>2.8</td>\n",
              "      <td>27.100000</td>\n",
              "      <td>16.799999</td>\n",
              "      <td>215.500000</td>\n",
              "      <td>3321.300049</td>\n",
              "      <td>520.900024</td>\n",
              "      <td>2641.199951</td>\n",
              "      <td>159.199997</td>\n",
              "    </tr>\n",
              "  </tbody>\n",
              "</table>\n",
              "<p>2200 rows × 12 columns</p>\n",
              "</div>\n",
              "      <button class=\"colab-df-convert\" onclick=\"convertToInteractive('df-650875f6-2e9e-43e7-bd4d-061bcd889ad5')\"\n",
              "              title=\"Convert this dataframe to an interactive table.\"\n",
              "              style=\"display:none;\">\n",
              "        \n",
              "  <svg xmlns=\"http://www.w3.org/2000/svg\" height=\"24px\"viewBox=\"0 0 24 24\"\n",
              "       width=\"24px\">\n",
              "    <path d=\"M0 0h24v24H0V0z\" fill=\"none\"/>\n",
              "    <path d=\"M18.56 5.44l.94 2.06.94-2.06 2.06-.94-2.06-.94-.94-2.06-.94 2.06-2.06.94zm-11 1L8.5 8.5l.94-2.06 2.06-.94-2.06-.94L8.5 2.5l-.94 2.06-2.06.94zm10 10l.94 2.06.94-2.06 2.06-.94-2.06-.94-.94-2.06-.94 2.06-2.06.94z\"/><path d=\"M17.41 7.96l-1.37-1.37c-.4-.4-.92-.59-1.43-.59-.52 0-1.04.2-1.43.59L10.3 9.45l-7.72 7.72c-.78.78-.78 2.05 0 2.83L4 21.41c.39.39.9.59 1.41.59.51 0 1.02-.2 1.41-.59l7.78-7.78 2.81-2.81c.8-.78.8-2.07 0-2.86zM5.41 20L4 18.59l7.72-7.72 1.47 1.35L5.41 20z\"/>\n",
              "  </svg>\n",
              "      </button>\n",
              "      \n",
              "  <style>\n",
              "    .colab-df-container {\n",
              "      display:flex;\n",
              "      flex-wrap:wrap;\n",
              "      gap: 12px;\n",
              "    }\n",
              "\n",
              "    .colab-df-convert {\n",
              "      background-color: #E8F0FE;\n",
              "      border: none;\n",
              "      border-radius: 50%;\n",
              "      cursor: pointer;\n",
              "      display: none;\n",
              "      fill: #1967D2;\n",
              "      height: 32px;\n",
              "      padding: 0 0 0 0;\n",
              "      width: 32px;\n",
              "    }\n",
              "\n",
              "    .colab-df-convert:hover {\n",
              "      background-color: #E2EBFA;\n",
              "      box-shadow: 0px 1px 2px rgba(60, 64, 67, 0.3), 0px 1px 3px 1px rgba(60, 64, 67, 0.15);\n",
              "      fill: #174EA6;\n",
              "    }\n",
              "\n",
              "    [theme=dark] .colab-df-convert {\n",
              "      background-color: #3B4455;\n",
              "      fill: #D2E3FC;\n",
              "    }\n",
              "\n",
              "    [theme=dark] .colab-df-convert:hover {\n",
              "      background-color: #434B5C;\n",
              "      box-shadow: 0px 1px 3px 1px rgba(0, 0, 0, 0.15);\n",
              "      filter: drop-shadow(0px 1px 2px rgba(0, 0, 0, 0.3));\n",
              "      fill: #FFFFFF;\n",
              "    }\n",
              "  </style>\n",
              "\n",
              "      <script>\n",
              "        const buttonEl =\n",
              "          document.querySelector('#df-650875f6-2e9e-43e7-bd4d-061bcd889ad5 button.colab-df-convert');\n",
              "        buttonEl.style.display =\n",
              "          google.colab.kernel.accessAllowed ? 'block' : 'none';\n",
              "\n",
              "        async function convertToInteractive(key) {\n",
              "          const element = document.querySelector('#df-650875f6-2e9e-43e7-bd4d-061bcd889ad5');\n",
              "          const dataTable =\n",
              "            await google.colab.kernel.invokeFunction('convertToInteractive',\n",
              "                                                     [key], {});\n",
              "          if (!dataTable) return;\n",
              "\n",
              "          const docLinkHtml = 'Like what you see? Visit the ' +\n",
              "            '<a target=\"_blank\" href=https://colab.research.google.com/notebooks/data_table.ipynb>data table notebook</a>'\n",
              "            + ' to learn more about interactive tables.';\n",
              "          element.innerHTML = '';\n",
              "          dataTable['output_type'] = 'display_data';\n",
              "          await google.colab.output.renderOutput(dataTable, element);\n",
              "          const docLink = document.createElement('div');\n",
              "          docLink.innerHTML = docLinkHtml;\n",
              "          element.appendChild(docLink);\n",
              "        }\n",
              "      </script>\n",
              "    </div>\n",
              "  </div>\n",
              "  "
            ]
          },
          "metadata": {},
          "execution_count": 83
        }
      ],
      "source": [
        "# You code here\n",
        "import pandas as pd\n",
        "import numpy as np\n",
        "import datascience as ds\n",
        "from datascience import Table\n",
        "\n",
        "\n",
        "# read in the dataset\n",
        "file_path = \"/content/drive/MyDrive/Lab 9/crime_rates.csv\"\n",
        "df = pd.read_csv(file_path)\n",
        "df\n"
      ]
    },
    {
      "cell_type": "code",
      "source": [
        "# create a table of the murder rates\n",
        "murder_rates = Table.from_df(df).select('State', 'Year', 'Population', 'Murder Rate')\n",
        "murder_rates"
      ],
      "metadata": {
        "colab": {
          "base_uri": "https://localhost:8080/",
          "height": 388
        },
        "id": "NUzvtED4lRY9",
        "outputId": "b726da43-5554-4a26-da8c-23f9fe2cd49d"
      },
      "execution_count": 84,
      "outputs": [
        {
          "output_type": "execute_result",
          "data": {
            "text/plain": [
              "State  | Year | Population | Murder Rate\n",
              "Alaska | 1960 | 226167     | 10.2\n",
              "Alaska | 1961 | 234000     | 11.5\n",
              "Alaska | 1962 | 246000     | 4.5\n",
              "Alaska | 1963 | 248000     | 6.5\n",
              "Alaska | 1964 | 250000     | 10.4\n",
              "Alaska | 1965 | 253000     | 6.3\n",
              "Alaska | 1966 | 272000     | 12.9\n",
              "Alaska | 1967 | 272000     | 9.6\n",
              "Alaska | 1968 | 277000     | 10.5\n",
              "Alaska | 1969 | 282000     | 10.6\n",
              "... (2190 rows omitted)"
            ],
            "text/html": [
              "<table border=\"1\" class=\"dataframe\">\n",
              "    <thead>\n",
              "        <tr>\n",
              "            <th>State</th> <th>Year</th> <th>Population</th> <th>Murder Rate</th>\n",
              "        </tr>\n",
              "    </thead>\n",
              "    <tbody>\n",
              "        <tr>\n",
              "            <td>Alaska</td> <td>1960</td> <td>226167    </td> <td>10.2       </td>\n",
              "        </tr>\n",
              "        <tr>\n",
              "            <td>Alaska</td> <td>1961</td> <td>234000    </td> <td>11.5       </td>\n",
              "        </tr>\n",
              "        <tr>\n",
              "            <td>Alaska</td> <td>1962</td> <td>246000    </td> <td>4.5        </td>\n",
              "        </tr>\n",
              "        <tr>\n",
              "            <td>Alaska</td> <td>1963</td> <td>248000    </td> <td>6.5        </td>\n",
              "        </tr>\n",
              "        <tr>\n",
              "            <td>Alaska</td> <td>1964</td> <td>250000    </td> <td>10.4       </td>\n",
              "        </tr>\n",
              "        <tr>\n",
              "            <td>Alaska</td> <td>1965</td> <td>253000    </td> <td>6.3        </td>\n",
              "        </tr>\n",
              "        <tr>\n",
              "            <td>Alaska</td> <td>1966</td> <td>272000    </td> <td>12.9       </td>\n",
              "        </tr>\n",
              "        <tr>\n",
              "            <td>Alaska</td> <td>1967</td> <td>272000    </td> <td>9.6        </td>\n",
              "        </tr>\n",
              "        <tr>\n",
              "            <td>Alaska</td> <td>1968</td> <td>277000    </td> <td>10.5       </td>\n",
              "        </tr>\n",
              "        <tr>\n",
              "            <td>Alaska</td> <td>1969</td> <td>282000    </td> <td>10.6       </td>\n",
              "        </tr>\n",
              "    </tbody>\n",
              "</table>\n",
              "<p>... (2190 rows omitted)</p>"
            ]
          },
          "metadata": {},
          "execution_count": 84
        }
      ]
    },
    {
      "cell_type": "code",
      "source": [
        "# create a table for death penalty\n",
        "non_death_penalty_states = np.array(['Alaska', 'Hawaii','Maine', 'Michigan', 'Wisconsin', 'Minnesota'])\n",
        "\n",
        "def had_death_penalty_in_1971 (state):\n",
        "  \"\"\"Returns True if the argument is the name or a state that had the death penalty in 1971.\"\"\"\n",
        "  return state not in non_death_penalty_states\n",
        "\n",
        "states = murder_rates.group('State') .select ('State')\n",
        "death_penalty = states.with_column ('Death Penalty', states.apply(had_death_penalty_in_1971, 0))\n",
        "death_penalty"
      ],
      "metadata": {
        "colab": {
          "base_uri": "https://localhost:8080/",
          "height": 388
        },
        "id": "m_qdllPTiTnl",
        "outputId": "efb204b4-9b76-46b6-a669-8f53a1282be4"
      },
      "execution_count": 85,
      "outputs": [
        {
          "output_type": "execute_result",
          "data": {
            "text/plain": [
              "State       | Death Penalty\n",
              "Alabama     | True\n",
              "Alaska      | False\n",
              "Arizona     | True\n",
              "Arkansas    | True\n",
              "California  | True\n",
              "Colorado    | True\n",
              "Connecticut | True\n",
              "Delaware    | True\n",
              "Florida     | True\n",
              "Georgia     | True\n",
              "... (40 rows omitted)"
            ],
            "text/html": [
              "<table border=\"1\" class=\"dataframe\">\n",
              "    <thead>\n",
              "        <tr>\n",
              "            <th>State</th> <th>Death Penalty</th>\n",
              "        </tr>\n",
              "    </thead>\n",
              "    <tbody>\n",
              "        <tr>\n",
              "            <td>Alabama    </td> <td>True         </td>\n",
              "        </tr>\n",
              "        <tr>\n",
              "            <td>Alaska     </td> <td>False        </td>\n",
              "        </tr>\n",
              "        <tr>\n",
              "            <td>Arizona    </td> <td>True         </td>\n",
              "        </tr>\n",
              "        <tr>\n",
              "            <td>Arkansas   </td> <td>True         </td>\n",
              "        </tr>\n",
              "        <tr>\n",
              "            <td>California </td> <td>True         </td>\n",
              "        </tr>\n",
              "        <tr>\n",
              "            <td>Colorado   </td> <td>True         </td>\n",
              "        </tr>\n",
              "        <tr>\n",
              "            <td>Connecticut</td> <td>True         </td>\n",
              "        </tr>\n",
              "        <tr>\n",
              "            <td>Delaware   </td> <td>True         </td>\n",
              "        </tr>\n",
              "        <tr>\n",
              "            <td>Florida    </td> <td>True         </td>\n",
              "        </tr>\n",
              "        <tr>\n",
              "            <td>Georgia    </td> <td>True         </td>\n",
              "        </tr>\n",
              "    </tbody>\n",
              "</table>\n",
              "<p>... (40 rows omitted)</p>"
            ]
          },
          "metadata": {},
          "execution_count": 85
        }
      ]
    },
    {
      "cell_type": "code",
      "source": [
        "# create a table of states that had the death penalty in 1971\n",
        "preban_rates = murder_rates.where('Year', 1971).join('State', death_penalty.where('Death Penalty', True))\n",
        "preban_rates"
      ],
      "metadata": {
        "colab": {
          "base_uri": "https://localhost:8080/",
          "height": 388
        },
        "id": "9Hu7wPpS1-kg",
        "outputId": "56fa0791-4bbb-4e3e-8927-a7314231fc83"
      },
      "execution_count": 86,
      "outputs": [
        {
          "output_type": "execute_result",
          "data": {
            "text/plain": [
              "State       | Year | Population | Murder Rate | Death Penalty\n",
              "Alabama     | 1971 | 3479000    | 15.1        | True\n",
              "Arizona     | 1971 | 1849000    | 6.7         | True\n",
              "Arkansas    | 1971 | 1944000    | 10.5        | True\n",
              "California  | 1971 | 20223000   | 8.1         | True\n",
              "Colorado    | 1971 | 2283000    | 6.5         | True\n",
              "Connecticut | 1971 | 3081000    | 3.1         | True\n",
              "Delaware    | 1971 | 558000     | 6.1         | True\n",
              "Florida     | 1971 | 7041000    | 13.3        | True\n",
              "Georgia     | 1971 | 4664000    | 16          | True\n",
              "Idaho       | 1971 | 732000     | 3.3         | True\n",
              "... (34 rows omitted)"
            ],
            "text/html": [
              "<table border=\"1\" class=\"dataframe\">\n",
              "    <thead>\n",
              "        <tr>\n",
              "            <th>State</th> <th>Year</th> <th>Population</th> <th>Murder Rate</th> <th>Death Penalty</th>\n",
              "        </tr>\n",
              "    </thead>\n",
              "    <tbody>\n",
              "        <tr>\n",
              "            <td>Alabama    </td> <td>1971</td> <td>3479000   </td> <td>15.1       </td> <td>True         </td>\n",
              "        </tr>\n",
              "        <tr>\n",
              "            <td>Arizona    </td> <td>1971</td> <td>1849000   </td> <td>6.7        </td> <td>True         </td>\n",
              "        </tr>\n",
              "        <tr>\n",
              "            <td>Arkansas   </td> <td>1971</td> <td>1944000   </td> <td>10.5       </td> <td>True         </td>\n",
              "        </tr>\n",
              "        <tr>\n",
              "            <td>California </td> <td>1971</td> <td>20223000  </td> <td>8.1        </td> <td>True         </td>\n",
              "        </tr>\n",
              "        <tr>\n",
              "            <td>Colorado   </td> <td>1971</td> <td>2283000   </td> <td>6.5        </td> <td>True         </td>\n",
              "        </tr>\n",
              "        <tr>\n",
              "            <td>Connecticut</td> <td>1971</td> <td>3081000   </td> <td>3.1        </td> <td>True         </td>\n",
              "        </tr>\n",
              "        <tr>\n",
              "            <td>Delaware   </td> <td>1971</td> <td>558000    </td> <td>6.1        </td> <td>True         </td>\n",
              "        </tr>\n",
              "        <tr>\n",
              "            <td>Florida    </td> <td>1971</td> <td>7041000   </td> <td>13.3       </td> <td>True         </td>\n",
              "        </tr>\n",
              "        <tr>\n",
              "            <td>Georgia    </td> <td>1971</td> <td>4664000   </td> <td>16         </td> <td>True         </td>\n",
              "        </tr>\n",
              "        <tr>\n",
              "            <td>Idaho      </td> <td>1971</td> <td>732000    </td> <td>3.3        </td> <td>True         </td>\n",
              "        </tr>\n",
              "    </tbody>\n",
              "</table>\n",
              "<p>... (34 rows omitted)</p>"
            ]
          },
          "metadata": {},
          "execution_count": 86
        }
      ]
    },
    {
      "cell_type": "code",
      "source": [
        "# create a table of states that had the death penalty in 1973\n",
        "postban_rates = murder_rates.where('Year', 1973).join('State', preban_rates).select('State', 'Year', 'Population', 'Murder Rate')\n",
        "postban_rates = postban_rates.with_column('Death Penalty', False)\n",
        "postban_rates = postban_rates.sort('State')\n",
        "postban_rates"
      ],
      "metadata": {
        "colab": {
          "base_uri": "https://localhost:8080/",
          "height": 388
        },
        "id": "DWGdM3Gf2tmS",
        "outputId": "fe86be2b-a749-4755-8595-6dde708c765a"
      },
      "execution_count": 87,
      "outputs": [
        {
          "output_type": "execute_result",
          "data": {
            "text/plain": [
              "State       | Year | Population | Murder Rate | Death Penalty\n",
              "Alabama     | 1973 | 3539000    | 13.2        | False\n",
              "Arizona     | 1973 | 2058000    | 8.1         | False\n",
              "Arkansas    | 1973 | 2037000    | 8.8         | False\n",
              "California  | 1973 | 20601000   | 9           | False\n",
              "Colorado    | 1973 | 2437000    | 7.9         | False\n",
              "Connecticut | 1973 | 3076000    | 3.3         | False\n",
              "Delaware    | 1973 | 576000     | 5.9         | False\n",
              "Florida     | 1973 | 7678000    | 15.4        | False\n",
              "Georgia     | 1973 | 4786000    | 17.4        | False\n",
              "Idaho       | 1973 | 770000     | 2.6         | False\n",
              "... (34 rows omitted)"
            ],
            "text/html": [
              "<table border=\"1\" class=\"dataframe\">\n",
              "    <thead>\n",
              "        <tr>\n",
              "            <th>State</th> <th>Year</th> <th>Population</th> <th>Murder Rate</th> <th>Death Penalty</th>\n",
              "        </tr>\n",
              "    </thead>\n",
              "    <tbody>\n",
              "        <tr>\n",
              "            <td>Alabama    </td> <td>1973</td> <td>3539000   </td> <td>13.2       </td> <td>False        </td>\n",
              "        </tr>\n",
              "        <tr>\n",
              "            <td>Arizona    </td> <td>1973</td> <td>2058000   </td> <td>8.1        </td> <td>False        </td>\n",
              "        </tr>\n",
              "        <tr>\n",
              "            <td>Arkansas   </td> <td>1973</td> <td>2037000   </td> <td>8.8        </td> <td>False        </td>\n",
              "        </tr>\n",
              "        <tr>\n",
              "            <td>California </td> <td>1973</td> <td>20601000  </td> <td>9          </td> <td>False        </td>\n",
              "        </tr>\n",
              "        <tr>\n",
              "            <td>Colorado   </td> <td>1973</td> <td>2437000   </td> <td>7.9        </td> <td>False        </td>\n",
              "        </tr>\n",
              "        <tr>\n",
              "            <td>Connecticut</td> <td>1973</td> <td>3076000   </td> <td>3.3        </td> <td>False        </td>\n",
              "        </tr>\n",
              "        <tr>\n",
              "            <td>Delaware   </td> <td>1973</td> <td>576000    </td> <td>5.9        </td> <td>False        </td>\n",
              "        </tr>\n",
              "        <tr>\n",
              "            <td>Florida    </td> <td>1973</td> <td>7678000   </td> <td>15.4       </td> <td>False        </td>\n",
              "        </tr>\n",
              "        <tr>\n",
              "            <td>Georgia    </td> <td>1973</td> <td>4786000   </td> <td>17.4       </td> <td>False        </td>\n",
              "        </tr>\n",
              "        <tr>\n",
              "            <td>Idaho      </td> <td>1973</td> <td>770000    </td> <td>2.6        </td> <td>False        </td>\n",
              "        </tr>\n",
              "    </tbody>\n",
              "</table>\n",
              "<p>... (34 rows omitted)</p>"
            ]
          },
          "metadata": {},
          "execution_count": 87
        }
      ]
    },
    {
      "cell_type": "code",
      "source": [
        "# create a table that contains the change in death rates\n",
        "preban_rates_copy = preban_rates.copy()\n",
        "change_in_death_rates = preban_rates_copy.append(postban_rates)\n",
        "change_in_death_rates"
      ],
      "metadata": {
        "colab": {
          "base_uri": "https://localhost:8080/",
          "height": 388
        },
        "id": "TLjqa9VN3Vhc",
        "outputId": "8cd3a5d4-a5ab-4a2d-858f-ffb7f5cdcc44"
      },
      "execution_count": 88,
      "outputs": [
        {
          "output_type": "execute_result",
          "data": {
            "text/plain": [
              "State       | Year | Population | Murder Rate | Death Penalty\n",
              "Alabama     | 1971 | 3479000    | 15.1        | True\n",
              "Arizona     | 1971 | 1849000    | 6.7         | True\n",
              "Arkansas    | 1971 | 1944000    | 10.5        | True\n",
              "California  | 1971 | 20223000   | 8.1         | True\n",
              "Colorado    | 1971 | 2283000    | 6.5         | True\n",
              "Connecticut | 1971 | 3081000    | 3.1         | True\n",
              "Delaware    | 1971 | 558000     | 6.1         | True\n",
              "Florida     | 1971 | 7041000    | 13.3        | True\n",
              "Georgia     | 1971 | 4664000    | 16          | True\n",
              "Idaho       | 1971 | 732000     | 3.3         | True\n",
              "... (78 rows omitted)"
            ],
            "text/html": [
              "<table border=\"1\" class=\"dataframe\">\n",
              "    <thead>\n",
              "        <tr>\n",
              "            <th>State</th> <th>Year</th> <th>Population</th> <th>Murder Rate</th> <th>Death Penalty</th>\n",
              "        </tr>\n",
              "    </thead>\n",
              "    <tbody>\n",
              "        <tr>\n",
              "            <td>Alabama    </td> <td>1971</td> <td>3479000   </td> <td>15.1       </td> <td>True         </td>\n",
              "        </tr>\n",
              "        <tr>\n",
              "            <td>Arizona    </td> <td>1971</td> <td>1849000   </td> <td>6.7        </td> <td>True         </td>\n",
              "        </tr>\n",
              "        <tr>\n",
              "            <td>Arkansas   </td> <td>1971</td> <td>1944000   </td> <td>10.5       </td> <td>True         </td>\n",
              "        </tr>\n",
              "        <tr>\n",
              "            <td>California </td> <td>1971</td> <td>20223000  </td> <td>8.1        </td> <td>True         </td>\n",
              "        </tr>\n",
              "        <tr>\n",
              "            <td>Colorado   </td> <td>1971</td> <td>2283000   </td> <td>6.5        </td> <td>True         </td>\n",
              "        </tr>\n",
              "        <tr>\n",
              "            <td>Connecticut</td> <td>1971</td> <td>3081000   </td> <td>3.1        </td> <td>True         </td>\n",
              "        </tr>\n",
              "        <tr>\n",
              "            <td>Delaware   </td> <td>1971</td> <td>558000    </td> <td>6.1        </td> <td>True         </td>\n",
              "        </tr>\n",
              "        <tr>\n",
              "            <td>Florida    </td> <td>1971</td> <td>7041000   </td> <td>13.3       </td> <td>True         </td>\n",
              "        </tr>\n",
              "        <tr>\n",
              "            <td>Georgia    </td> <td>1971</td> <td>4664000   </td> <td>16         </td> <td>True         </td>\n",
              "        </tr>\n",
              "        <tr>\n",
              "            <td>Idaho      </td> <td>1971</td> <td>732000    </td> <td>3.3        </td> <td>True         </td>\n",
              "        </tr>\n",
              "    </tbody>\n",
              "</table>\n",
              "<p>... (78 rows omitted)</p>"
            ]
          },
          "metadata": {},
          "execution_count": 88
        }
      ]
    },
    {
      "cell_type": "code",
      "source": [
        "# create a table that contains the mean death rate for states with the death penalty and states without\n",
        "new_table = change_in_death_rates.group(\"Death Penalty\", np.average)\n",
        "rate_means = new_table.select(\"Death Penalty\", \"Murder Rate average\")\n",
        "rate_means"
      ],
      "metadata": {
        "colab": {
          "base_uri": "https://localhost:8080/",
          "height": 111
        },
        "id": "_GBbz3LE4Ync",
        "outputId": "9624a915-3f26-42eb-f1a8-433313e38b57"
      },
      "execution_count": 89,
      "outputs": [
        {
          "output_type": "execute_result",
          "data": {
            "text/plain": [
              "Death Penalty | Murder Rate average\n",
              "False         | 8.12045\n",
              "True          | 7.51364"
            ],
            "text/html": [
              "<table border=\"1\" class=\"dataframe\">\n",
              "    <thead>\n",
              "        <tr>\n",
              "            <th>Death Penalty</th> <th>Murder Rate average</th>\n",
              "        </tr>\n",
              "    </thead>\n",
              "    <tbody>\n",
              "        <tr>\n",
              "            <td>False        </td> <td>8.12045            </td>\n",
              "        </tr>\n",
              "        <tr>\n",
              "            <td>True         </td> <td>7.51364            </td>\n",
              "        </tr>\n",
              "    </tbody>\n",
              "</table>"
            ]
          },
          "metadata": {},
          "execution_count": 89
        }
      ]
    },
    {
      "cell_type": "code",
      "source": [
        "# determine the observed difference\n",
        "observed_difference = rate_means.column(\"Murder Rate average\").item(0) - rate_means.column(\"Murder Rate average\").item(1)\n",
        "observed_difference"
      ],
      "metadata": {
        "colab": {
          "base_uri": "https://localhost:8080/"
        },
        "id": "yFyADGiV7anp",
        "outputId": "1c20627e-b48f-47ac-b61e-608ac1c70fed"
      },
      "execution_count": 90,
      "outputs": [
        {
          "output_type": "execute_result",
          "data": {
            "text/plain": [
              "0.6068181600659095"
            ]
          },
          "metadata": {},
          "execution_count": 90
        }
      ]
    },
    {
      "cell_type": "code",
      "source": [
        "# find the test statistic\n",
        "def find_test_stat(table, label, group_label):\n",
        "  new_table = table.group(group_label, np.average)\n",
        "  return new_table.column(label + \" average\").item(0) - new_table.column(label + \" average\").item(1)\n",
        "\n",
        "find_test_stat(change_in_death_rates, \"Murder Rate\", \"Death Penalty\")"
      ],
      "metadata": {
        "colab": {
          "base_uri": "https://localhost:8080/"
        },
        "id": "xMfie_3073h1",
        "outputId": "14270dda-2d74-499f-8423-a086c8851a37"
      },
      "execution_count": 91,
      "outputs": [
        {
          "output_type": "execute_result",
          "data": {
            "text/plain": [
              "0.6068181600659095"
            ]
          },
          "metadata": {},
          "execution_count": 91
        }
      ]
    },
    {
      "cell_type": "code",
      "source": [
        "# create an array of the differences\n",
        "differences = ds.make_array()\n",
        "\n",
        "def simulate_and_test_statistic(table, labels_col, values_col):\n",
        "  shuffled_labels = table.sample(with_replacement = False).column(labels_col)\n",
        "  shuffled_table = table.with_column(labels_col, shuffled_labels)\n",
        "  return find_test_stat(shuffled_table, labels_col, values_col)\n",
        "\n",
        "for i in np.arange(5000):\n",
        "  test = simulate_and_test_statistic(change_in_death_rates, \"Murder Rate\", \"Death Penalty\")\n",
        "  differences = np.append(differences, test)\n",
        "\n",
        "differences"
      ],
      "metadata": {
        "colab": {
          "base_uri": "https://localhost:8080/"
        },
        "id": "JTsYas0R8sH5",
        "outputId": "cd128289-4d81-40f5-b133-152b53d6fe53"
      },
      "execution_count": 92,
      "outputs": [
        {
          "output_type": "execute_result",
          "data": {
            "text/plain": [
              "array([-1.12045459,  0.08409086, -0.63409078, ...,  1.42954544,\n",
              "        1.71590912, -1.04318185])"
            ]
          },
          "metadata": {},
          "execution_count": 92
        }
      ]
    },
    {
      "cell_type": "code",
      "source": [
        "# find the P-value\n",
        "empirical_P = sum(differences >= observed_difference) / len(differences)\n",
        "empirical_P"
      ],
      "metadata": {
        "colab": {
          "base_uri": "https://localhost:8080/"
        },
        "id": "DJYZ6bV98ty7",
        "outputId": "dc6f728e-ab9d-49a5-84aa-1e433b51bf81"
      },
      "execution_count": 93,
      "outputs": [
        {
          "output_type": "execute_result",
          "data": {
            "text/plain": [
              "0.2636"
            ]
          },
          "metadata": {},
          "execution_count": 93
        }
      ]
    }
  ],
  "metadata": {
    "kernelspec": {
      "display_name": "Python 3",
      "language": "python",
      "name": "python3"
    },
    "language_info": {
      "codemirror_mode": {
        "name": "ipython",
        "version": 3
      },
      "file_extension": ".py",
      "mimetype": "text/x-python",
      "name": "python",
      "nbconvert_exporter": "python",
      "pygments_lexer": "ipython3",
      "version": "3.8.5"
    },
    "colab": {
      "name": "lab_assignment_09.ipynb",
      "provenance": [],
      "include_colab_link": true
    }
  },
  "nbformat": 4,
  "nbformat_minor": 0
}